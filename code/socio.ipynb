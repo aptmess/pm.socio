{
 "cells": [
  {
   "cell_type": "markdown",
   "metadata": {},
   "source": [
    "Импорт библиотек"
   ]
  },
  {
   "cell_type": "code",
   "execution_count": 1,
   "metadata": {},
   "outputs": [],
   "source": [
    "import numpy as np\n",
    "import pandas as pd\n",
    "\n",
    "import matplotlib.pyplot as plt\n",
    "%matplotlib inline\n",
    "\n",
    "import seaborn as sns"
   ]
  },
  {
   "cell_type": "markdown",
   "metadata": {},
   "source": [
    "Импорт листов"
   ]
  },
  {
   "cell_type": "code",
   "execution_count": 25,
   "metadata": {},
   "outputs": [],
   "source": [
    "description = pd.read_excel('data/socio.xls', sheet_name='Description', skiprows=4, index_col=0) #описание исходных данных\n",
    "\n",
    "#листы\n",
    "M1 = pd.read_excel('data/socio.xls', sheet_name='M1')\n",
    "M2 = pd.read_excel('data/socio.xls', sheet_name='M2')\n",
    "M3 = pd.read_excel('data/socio.xls', sheet_name='M3')\n",
    "M4 = pd.read_excel('data/socio.xls', sheet_name='M4')\n",
    "M5 = pd.read_excel('data/socio.xls', sheet_name='M5')\n",
    "M6 = pd.read_excel('data/socio.xls', sheet_name='M6')\n",
    "M7 = pd.read_excel('data/socio.xls', sheet_name='M7')\n",
    "M8 = pd.read_excel('data/socio.xls', sheet_name='M8')\n",
    "M9 = pd.read_excel('data/socio.xls', sheet_name='M9')"
   ]
  },
  {
   "cell_type": "code",
   "execution_count": 26,
   "metadata": {},
   "outputs": [
    {
     "data": {
      "text/html": [
       "<div>\n",
       "<style scoped>\n",
       "    .dataframe tbody tr th:only-of-type {\n",
       "        vertical-align: middle;\n",
       "    }\n",
       "\n",
       "    .dataframe tbody tr th {\n",
       "        vertical-align: top;\n",
       "    }\n",
       "\n",
       "    .dataframe thead th {\n",
       "        text-align: right;\n",
       "    }\n",
       "</style>\n",
       "<table border=\"1\" class=\"dataframe\">\n",
       "  <thead>\n",
       "    <tr style=\"text-align: right;\">\n",
       "      <th></th>\n",
       "      <th>Вопрос</th>\n",
       "    </tr>\n",
       "    <tr>\n",
       "      <th>Лист</th>\n",
       "      <th></th>\n",
       "    </tr>\n",
       "  </thead>\n",
       "  <tbody>\n",
       "    <tr>\n",
       "      <th>M1</th>\n",
       "      <td>1.С кем бы Вы хотели сидеть за одной партой?</td>\n",
       "    </tr>\n",
       "    <tr>\n",
       "      <th>M2</th>\n",
       "      <td>2.С кем бы Вы НЕ хотели сидеть за одной партой?</td>\n",
       "    </tr>\n",
       "    <tr>\n",
       "      <th>M3</th>\n",
       "      <td>3.Кого бы Вы хотели пригласить на свой День Ро...</td>\n",
       "    </tr>\n",
       "    <tr>\n",
       "      <th>M4</th>\n",
       "      <td>4.Кого бы Вы НЕ хотели пригласить на свой День...</td>\n",
       "    </tr>\n",
       "    <tr>\n",
       "      <th>M5</th>\n",
       "      <td>5.Кого бы Вы назначили старостой группы?</td>\n",
       "    </tr>\n",
       "    <tr>\n",
       "      <th>M6</th>\n",
       "      <td>6.Кого бы Вы НЕ назначили старостой группы?</td>\n",
       "    </tr>\n",
       "    <tr>\n",
       "      <th>M7</th>\n",
       "      <td>7.С кем из своих одногруппников Вы бы хотели п...</td>\n",
       "    </tr>\n",
       "    <tr>\n",
       "      <th>M8</th>\n",
       "      <td>8.С кем из своих одногруппников Вы бы НЕ хотел...</td>\n",
       "    </tr>\n",
       "    <tr>\n",
       "      <th>M9</th>\n",
       "      <td>9.Кого из одногруппников Вы считаете своим дру...</td>\n",
       "    </tr>\n",
       "  </tbody>\n",
       "</table>\n",
       "</div>"
      ],
      "text/plain": [
       "                                                 Вопрос\n",
       "Лист                                                   \n",
       "M1         1.С кем бы Вы хотели сидеть за одной партой?\n",
       "M2      2.С кем бы Вы НЕ хотели сидеть за одной партой?\n",
       "M3    3.Кого бы Вы хотели пригласить на свой День Ро...\n",
       "M4    4.Кого бы Вы НЕ хотели пригласить на свой День...\n",
       "M5             5.Кого бы Вы назначили старостой группы?\n",
       "M6          6.Кого бы Вы НЕ назначили старостой группы?\n",
       "M7    7.С кем из своих одногруппников Вы бы хотели п...\n",
       "M8    8.С кем из своих одногруппников Вы бы НЕ хотел...\n",
       "M9    9.Кого из одногруппников Вы считаете своим дру..."
      ]
     },
     "execution_count": 26,
     "metadata": {},
     "output_type": "execute_result"
    }
   ],
   "source": [
    "description"
   ]
  },
  {
   "cell_type": "code",
   "execution_count": null,
   "metadata": {},
   "outputs": [],
   "source": []
  }
 ],
 "metadata": {
  "kernelspec": {
   "display_name": "Python 3",
   "language": "python",
   "name": "python3"
  },
  "language_info": {
   "codemirror_mode": {
    "name": "ipython",
    "version": 3
   },
   "file_extension": ".py",
   "mimetype": "text/x-python",
   "name": "python",
   "nbconvert_exporter": "python",
   "pygments_lexer": "ipython3",
   "version": "3.6.5"
  }
 },
 "nbformat": 4,
 "nbformat_minor": 2
}
